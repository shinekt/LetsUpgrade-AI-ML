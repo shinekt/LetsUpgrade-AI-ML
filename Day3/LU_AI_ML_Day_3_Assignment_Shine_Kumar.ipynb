{
 "cells": [
  {
   "cell_type": "markdown",
   "metadata": {},
   "source": [
    "# Question 1 : Write a program to subtract two complex numbers in Python."
   ]
  },
  {
   "cell_type": "code",
   "execution_count": 19,
   "metadata": {},
   "outputs": [
    {
     "name": "stdout",
     "output_type": "stream",
     "text": [
      "Difference of two complex numbers is : (2+2j)\n"
     ]
    }
   ],
   "source": [
    "#Assign the first complex number\n",
    "x = 6+4j\n",
    "#Assign the second complex number\n",
    "y = 4+2j\n",
    "#subtract x and y and assign to result\n",
    "result = x - y\n",
    "#print the result\n",
    "print(\"Difference of two complex numbers is :\",result)"
   ]
  },
  {
   "cell_type": "markdown",
   "metadata": {},
   "source": [
    "# Question 2 : Write a program to find the fourth root of a number"
   ]
  },
  {
   "cell_type": "code",
   "execution_count": 20,
   "metadata": {},
   "outputs": [
    {
     "name": "stdout",
     "output_type": "stream",
     "text": [
      "The 4th root of 2401 is 7.0\n"
     ]
    }
   ],
   "source": [
    "#Assign a number \n",
    "x = 2401\n",
    "#Find the fourth root of a number\n",
    "sqrt_x = (x**0.5)**0.5\n",
    "print(\"The 4th root of\",x,\"is\",str(sqrt_x))"
   ]
  },
  {
   "cell_type": "markdown",
   "metadata": {},
   "source": [
    "# Question 3 : Write a program to swap two numbers in Python with the help of a temporary variable."
   ]
  },
  {
   "cell_type": "code",
   "execution_count": 21,
   "metadata": {
    "scrolled": true
   },
   "outputs": [
    {
     "name": "stdout",
     "output_type": "stream",
     "text": [
      "First number is 6 and the second number is 8\n",
      "Swaped first number is 8 and the second number is 6\n"
     ]
    }
   ],
   "source": [
    "#Assign the first number\n",
    "x = 6\n",
    "#Assign the second number\n",
    "y = 8\n",
    "#print the first and second number\n",
    "print(\"First number is\",x,\"and the second number is\",y)\n",
    "#Swap x and y using the temporary variable z\n",
    "z = x\n",
    "x = y\n",
    "y = z\n",
    "#print the swaped numbers\n",
    "print(\"Swaped first number is\",x,\"and the second number is\",y)"
   ]
  },
  {
   "cell_type": "markdown",
   "metadata": {},
   "source": [
    "# Question 4 : Write a program to swap two numbers in Python without using a temporary variable"
   ]
  },
  {
   "cell_type": "code",
   "execution_count": 22,
   "metadata": {},
   "outputs": [
    {
     "name": "stdout",
     "output_type": "stream",
     "text": [
      "First number is 6 and the second number is 8\n",
      "Swaped first number is 8 and the second number is 6\n"
     ]
    }
   ],
   "source": [
    "#Assign the first number\n",
    "x = 6\n",
    "#Assign the second number\n",
    "y = 8\n",
    "#print the first and second number\n",
    "print(\"First number is\",x,\"and the second number is\",y)\n",
    "#Swap x and y without using a temporary variable\n",
    "y,x = x,y\n",
    "#print the swaped numbers\n",
    "print(\"Swaped first number is\",x,\"and the second number is\",y)"
   ]
  },
  {
   "cell_type": "markdown",
   "metadata": {},
   "source": [
    "# Question 5 : Write a program to convert fahrenheit to kelvin and celsius both"
   ]
  },
  {
   "cell_type": "code",
   "execution_count": 23,
   "metadata": {
    "scrolled": true
   },
   "outputs": [
    {
     "name": "stdout",
     "output_type": "stream",
     "text": [
      "Temperature in Fahrenheit : 76 \n",
      "Temperature in Celsius : 24.444444444444443 \n",
      "Temperature in Kelvin : 297.59444444444443\n"
     ]
    }
   ],
   "source": [
    "#Assign a value for fahrenheit\n",
    "fahrenheit = 76\n",
    "#Convert fahrenheit to celsius and assign to celsius\n",
    "celsius = (fahrenheit - 32) * 5/9\n",
    "#Convert fahrenheit to kelvin and assign to kelvin\n",
    "kelvin = celsius + 273.15\n",
    "#print the values\n",
    "print(\"Temperature in Fahrenheit :\",fahrenheit,\"\\nTemperature in Celsius :\",celsius,\"\\nTemperature in Kelvin :\",kelvin)"
   ]
  },
  {
   "cell_type": "markdown",
   "metadata": {},
   "source": [
    "# Question 6 : Write a program to demonstrate all the available data types in Python. Hint: Use type() function."
   ]
  },
  {
   "cell_type": "code",
   "execution_count": 24,
   "metadata": {},
   "outputs": [
    {
     "name": "stdout",
     "output_type": "stream",
     "text": [
      "Datatype of integer value : <class 'int'> \n",
      "Dataype of float value : <class 'float'> \n",
      "Datatype of string value : <class 'str'> \n",
      "Datatype of complex value : <class 'complex'> \n",
      "Datatype of list : <class 'list'> \n",
      "Datatype of tuple : <class 'tuple'> \n",
      "Datatype of dictionary : <class 'dict'> \n",
      "Datatype of boolean : <class 'bool'>\n"
     ]
    }
   ],
   "source": [
    "#Assign integer value to a\n",
    "a = 19\n",
    "#Assign floating point constant to b\n",
    "b = 12.13\n",
    "#Assign string to c\n",
    "c = \"Hello!\"\n",
    "#Assign complex number to d\n",
    "d = 2+4j\n",
    "#Assign list to e \n",
    "e = [1,4,2,5]\n",
    "#Assign tuple to f\n",
    "f = (2,5,4,7,8)\n",
    "#Assign dictionary to g\n",
    "g = {\"a\":4,\"b\":5}\n",
    "#Assign boolean to h\n",
    "h = True\n",
    "#print the datatypes of assigned valriables\n",
    "print(\"Datatype of integer value :\",type(a),\"\\nDataype of float value :\",type(b),\"\\nDatatype of string value :\",type(c),\"\\nDatatype of complex value :\",type(d),\"\\nDatatype of list :\",type(e),\"\\nDatatype of tuple :\",type(f),\"\\nDatatype of dictionary :\",type(g),\"\\nDatatype of boolean :\",type(h))"
   ]
  },
  {
   "cell_type": "markdown",
   "metadata": {},
   "source": [
    "# Question 7 : Create a Markdown cell in jupyter and list the steps discussed in the session by Dr. Darshan Ingle sir to create Github profile and upload Githubs Assignment link."
   ]
  },
  {
   "cell_type": "markdown",
   "metadata": {},
   "source": [
    "Steps to create Github profile and assignment link upload is as follows :\n",
    "\n",
    "* Create a Github public repo and name it LetsUpgrade AI/ML \n",
    "* Upload the files/solution in the repo in day wise manner.  \n",
    "* Copy the URL of the Folder of that day and paste in the Assignment Submission Form (Google Form)\n",
    "* Make sure you are filling correct details in the Assignment Submission Form. "
   ]
  },
  {
   "cell_type": "markdown",
   "metadata": {},
   "source": []
  }
 ],
 "metadata": {
  "kernelspec": {
   "display_name": "Python 3",
   "language": "python",
   "name": "python3"
  },
  "language_info": {
   "codemirror_mode": {
    "name": "ipython",
    "version": 3
   },
   "file_extension": ".py",
   "mimetype": "text/x-python",
   "name": "python",
   "nbconvert_exporter": "python",
   "pygments_lexer": "ipython3",
   "version": "3.7.6"
  }
 },
 "nbformat": 4,
 "nbformat_minor": 4
}
