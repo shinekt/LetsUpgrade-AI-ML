{
 "cells": [
  {
   "cell_type": "markdown",
   "metadata": {},
   "source": [
    "# Question 1 : Write a Python program to find the first 20 non-even prime natural numbers."
   ]
  },
  {
   "cell_type": "code",
   "execution_count": 22,
   "metadata": {},
   "outputs": [
    {
     "name": "stdout",
     "output_type": "stream",
     "text": [
      "[3, 5, 7, 11, 13, 17, 19, 23, 29, 31, 37, 41, 43, 47, 53, 59, 61, 67, 71, 73]\n"
     ]
    }
   ],
   "source": [
    "#initialize an empty list\n",
    "result = []\n",
    "\n",
    "#initialize i to hold incrementing number\n",
    "i = 1\n",
    "\n",
    "#looping condition to check if 20 numbers are found\n",
    "while len(result) < 20:\n",
    "    sum = 0\n",
    "    \n",
    "    #check if the number is prime\n",
    "    for j in range(1,int(i/2)+1,1):\n",
    "        if i%j == 0:\n",
    "            sum = sum + 1\n",
    "    \n",
    "    #check if the number is prime and odd\n",
    "    if sum == 1 and i%2 == 1:\n",
    "        \n",
    "        #Append the value of i to result list\n",
    "        result.append(i)\n",
    "    i = i + 1\n",
    "    \n",
    "#print the result\n",
    "print(result)  "
   ]
  },
  {
   "cell_type": "markdown",
   "metadata": {},
   "source": [
    "# Question 2 : Write a Python program to implement 15 functions of string"
   ]
  },
  {
   "cell_type": "code",
   "execution_count": 1,
   "metadata": {},
   "outputs": [
    {
     "name": "stdout",
     "output_type": "stream",
     "text": [
      "Concatination of two strings :  HelloooWorld!\n",
      "Swap the cases :  hELLOOO\n",
      "Convert to lower case :  hellooo\n",
      "Convert to upper case :  HELLOOO\n",
      "Check if the value contain alphabets : True\n",
      "Check the number of times a o is repeated in the string :  3\n",
      "Find the position of e :  1\n",
      "Check if all the characters in the string are decimal :  False\n",
      "Check whether all the characters in the string are in lower case :  False\n",
      "Check whether all the characters in the string are in upper case :  False\n",
      "Replace ! with o :  Worldo\n",
      "Split the string at e : ['H', 'llooo']\n",
      "Check whether the string starts with R : False\n",
      "Partition the strings with is as a delimiter :  ('Artificial Intelligence ', 'is', ' the future')\n",
      "Check whether the the string ends with e : True\n"
     ]
    }
   ],
   "source": [
    "#Assign string values to the variables \n",
    "S1 = \"Hellooo\"\n",
    "S2 = \"World!\"\n",
    "S3 = \"Artificial Intelligence is the future\"\n",
    "\n",
    "#Perform string operations\n",
    "print(\"Concatination of two strings : \",S1+S2)\n",
    "print(\"Swap the cases : \",S1.swapcase())\n",
    "print(\"Convert to lower case : \",S1.lower())\n",
    "print(\"Convert to upper case : \",S1.upper())\n",
    "print(\"Check if the value contain alphabets :\",S1.isalpha())\n",
    "print(\"Check the number of times a o is repeated in the string : \",S1.count(\"o\"))\n",
    "print(\"Find the position of e : \",S1.find('e'))\n",
    "print(\"Check if all the characters in the string are decimal : \",S1.isdecimal())\n",
    "print(\"Check whether all the characters in the string are in lower case : \",S1.islower())\n",
    "print(\"Check whether all the characters in the string are in upper case : \",S1.isupper())\n",
    "print(\"Replace ! with o : \",S2.replace('!','o'))\n",
    "print(\"Split the string at e :\",S1.split(\"e\"))\n",
    "print(\"Check whether the string starts with R :\",S1.startswith('R'))\n",
    "print(\"Partition the strings with is as a delimiter : \",S3.partition(\"is\"))\n",
    "print(\"Check whether the the string ends with e :\",S3.endswith('e'))"
   ]
  },
  {
   "cell_type": "markdown",
   "metadata": {},
   "source": [
    "# Question 3: Write a Python program to check if the given string is a Palindrome or Anagram or None of them. Display the message accordingly to the user."
   ]
  },
  {
   "cell_type": "code",
   "execution_count": 3,
   "metadata": {},
   "outputs": [
    {
     "name": "stdout",
     "output_type": "stream",
     "text": [
      "Enter the first string : polaris\n",
      "Enter the second string : lisarpo\n",
      "The given strings are anagram\n"
     ]
    }
   ],
   "source": [
    "#Enter the strings as a keyboard input\n",
    "st1 = input(\"Enter the first string : \")\n",
    "st2 = input(\"Enter the second string : \")\n",
    "\n",
    "#Find if the two strings ae parlindrome or anagram\n",
    "st2_rev = st2[::-1]\n",
    "st1_rev = st1[::-1]\n",
    "if st2_rev == st2 and st1_rev == st1:\n",
    "    print(\"The given strings are parlindrome\")\n",
    "elif sorted(st1) == sorted(st2):\n",
    "    print(\"The given strings are anagram\")\n",
    "else:\n",
    "    print(\"The given strings are not parlindrome nor anagram\")"
   ]
  },
  {
   "cell_type": "markdown",
   "metadata": {},
   "source": [
    "# Question 4:Write a Python's user defined function that removes all the additional characters from the string and converts it finally to lower case using built-in lower(). eg: If the string is \"Dr. Darshan Ingle @AI-ML Trainer\", then the output be \"drdarshaningleaimltrainer\"."
   ]
  },
  {
   "cell_type": "code",
   "execution_count": 7,
   "metadata": {},
   "outputs": [
    {
     "name": "stdout",
     "output_type": "stream",
     "text": [
      "Enter a string : MAchine_LeAr^n I#_ng@I*$^&^s,GRe% aT\n",
      "Output in lower case without and special characters :  machinelearningisgreat\n"
     ]
    }
   ],
   "source": [
    "#User defined function for string conversion\n",
    "def strconv(str):\n",
    "    \n",
    "    #initialize a variable with the special characters\n",
    "    spcl = \" [@_!#$%^&*()<>?/\\|}{~:],\"\n",
    "    \n",
    "    #initialize an empty string to store the final concatinated result\n",
    "    str_conc = \"\"\n",
    "    \n",
    "    #interate over the entered string\n",
    "    for i in str:\n",
    "        status = spcl.find(i)\n",
    "        \n",
    "        #check if the extracted character from the input is a special character\n",
    "        if status >= 0:\n",
    "            continue\n",
    "        else:\n",
    "            str_conc = str_conc + i\n",
    "    \n",
    "    #Convert to lower case and return the concatinated result\n",
    "    return str_conc.lower()\n",
    "        \n",
    "#Enter a string with special characters\n",
    "str = input(\"Enter a string : \")\n",
    "print(\"Output in lower case without and special characters : \",strconv(str))"
   ]
  },
  {
   "cell_type": "code",
   "execution_count": null,
   "metadata": {},
   "outputs": [],
   "source": []
  }
 ],
 "metadata": {
  "kernelspec": {
   "display_name": "Python 3",
   "language": "python",
   "name": "python3"
  },
  "language_info": {
   "codemirror_mode": {
    "name": "ipython",
    "version": 3
   },
   "file_extension": ".py",
   "mimetype": "text/x-python",
   "name": "python",
   "nbconvert_exporter": "python",
   "pygments_lexer": "ipython3",
   "version": "3.7.6"
  }
 },
 "nbformat": 4,
 "nbformat_minor": 4
}
