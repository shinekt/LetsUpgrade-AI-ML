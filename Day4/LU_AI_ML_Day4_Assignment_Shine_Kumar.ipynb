{
 "cells": [
  {
   "cell_type": "markdown",
   "metadata": {},
   "source": [
    "# Question 1 :Research on whether addition, subtraction, multiplication, division, floor division and modulo operations be performed on complex numbers. Based on your study, implement a Python program to demonstrate these operations.\n"
   ]
  },
  {
   "cell_type": "code",
   "execution_count": 10,
   "metadata": {},
   "outputs": [
    {
     "name": "stdout",
     "output_type": "stream",
     "text": [
      "Addition of (2+3j) and (4+5j) = (6+8j)\n",
      "Subtraction of (2+3j) and (4+5j) = (-2-2j)\n",
      "Multiplication of (2+3j) and (4+5j) = (-7+22j)\n",
      "Division of (2+3j) and (4+5j) = (0.5609756097560976+0.0487804878048781j)\n",
      "Note : Floor division and Mudulo operation of complex numbers are not possible\n"
     ]
    }
   ],
   "source": [
    "#Assign complex numbers to variables\n",
    "x = 2+3j\n",
    "y = 4+5j\n",
    "\n",
    "#Addition of complex numbers\n",
    "print(\"Addition of\",x,\"and\",y,\"=\",x+y)\n",
    "\n",
    "#Subtraction of complexx numbers\n",
    "print(\"Subtraction of\",x,\"and\",y,\"=\",x-y)\n",
    "\n",
    "#Multiplication of complexx numbers\n",
    "print(\"Multiplication of\",x,\"and\",y,\"=\",x*y)\n",
    "\n",
    "#Division of complexx numbers\n",
    "print(\"Division of\",x,\"and\",y,\"=\",x/y)\n",
    "print(\"Note : Floor division and Mudulo operation of complex numbers are not possible\")"
   ]
  },
  {
   "cell_type": "markdown",
   "metadata": {},
   "source": [
    "# Question 2 :Research on range() functions and its parameters. Create a markdown cell and write in your own words (no copy-paste from google please) what you understand about it. Implement a small program of your choice on the same"
   ]
  },
  {
   "cell_type": "markdown",
   "metadata": {},
   "source": [
    "range() function return a range of values for the limit given as a function parameter starting from 0(default) to limit-1. range() is generally used in looping statements to iterate through the list of values \n",
    "\n",
    "Following are the parameters used in range fucntion :\n",
    "* start : This specifies a start point for the list. This is an optional parameter and if failed to specify, the start will be set as a default value of 0\n",
    "* end : This specifies the limit and the resultant value list will be end-1. This is a mandatory parameter and should be specified for the successful run of the ffunction\n",
    "* step : This specifies the number of values to be skipped inorder to generate a list of values given within a range. This is an optional parameter and by default the value is set to 1\n",
    "\n",
    "\n",
    "An example of range function is as follows :"
   ]
  },
  {
   "cell_type": "code",
   "execution_count": 17,
   "metadata": {},
   "outputs": [
    {
     "name": "stdout",
     "output_type": "stream",
     "text": [
      "[2, 4, 6, 8, 10, 12, 14, 16, 18]\n",
      "Here, the range starts from 2 to 19 while skipping 2 digits after every iteration\n"
     ]
    }
   ],
   "source": [
    "#Initialize values for start, end and step\n",
    "start = 2\n",
    "end = 20\n",
    "step = 2\n",
    "\n",
    "#Initialize an enmpy list to store the values\n",
    "range_values = []\n",
    "\n",
    "#loop through the for lopp using the range parameters defined\n",
    "for i in range(start,end,step):\n",
    "    range_values.append(i)\n",
    "    \n",
    "#Print the generated list\n",
    "print(range_values)\n",
    "print(\"Here, the range starts from\",start,\"to\",end-1,\"while skipping\",step,\"digits after every iteration\")"
   ]
  },
  {
   "cell_type": "markdown",
   "metadata": {},
   "source": [
    "# Question 3:Consider two numbers. Perform their subtraction and if the result of subtraction is greater than 25, print their multiplication result else print their division result.\n"
   ]
  },
  {
   "cell_type": "code",
   "execution_count": 19,
   "metadata": {},
   "outputs": [
    {
     "name": "stdout",
     "output_type": "stream",
     "text": [
      "45 * 10 = 450\n"
     ]
    }
   ],
   "source": [
    "#Assign the first number to x\n",
    "x = 45\n",
    "\n",
    "#Assign the second number to y\n",
    "y = 10\n",
    "\n",
    "#chech the given condition\n",
    "if((x-y) > 25):\n",
    "    #print their multiplication\n",
    "    print(x,\"*\",y,\"=\",x*y)\n",
    "else:\n",
    "    #print their division\n",
    "    print(x,\"/\",y,\"=\",x/y)"
   ]
  },
  {
   "cell_type": "markdown",
   "metadata": {},
   "source": [
    "# Question 4:Consider a list of 10 elements of integer values. If the number in the list is divisible by 2, print the result as \"square of that number minus 2\"."
   ]
  },
  {
   "cell_type": "code",
   "execution_count": 23,
   "metadata": {},
   "outputs": [
    {
     "name": "stdout",
     "output_type": "stream",
     "text": [
      "Result : [62, 14, 1154, 3134, 6082, 574, 98]\n"
     ]
    }
   ],
   "source": [
    "#Initialize the list with 10 integer values\n",
    "li = [8,4,34,56,23,78,23,45,24,10]\n",
    "\n",
    "#Initialize and empty list to store the result\n",
    "result =[]\n",
    "\n",
    "#Iterate the list to perfor the given operation\n",
    "for i in range(len(li)):\n",
    "    if li[i]%2 == 0:\n",
    "        result.append((li[i]**2)-2)\n",
    "\n",
    "#print the resultant list\n",
    "print(\"Result :\",result)"
   ]
  },
  {
   "cell_type": "markdown",
   "metadata": {},
   "source": [
    "# Question 5:Consider a list of 10 elements. Print all the elements in the list which are greater than 7 when that number is divided 2."
   ]
  },
  {
   "cell_type": "code",
   "execution_count": 27,
   "metadata": {},
   "outputs": [
    {
     "name": "stdout",
     "output_type": "stream",
     "text": [
      "Result : [34, 56, 72, 40, 24, 12]\n"
     ]
    }
   ],
   "source": [
    "#Initialize the list with 10 integer values\n",
    "li = [6,4,34,56,21,72,73,40,24,12]\n",
    "\n",
    "#Initialize and empty list to store the result\n",
    "result =[]\n",
    "\n",
    "#Iterate the list to perfor the given operation\n",
    "for i in range(len(li)):\n",
    "    if li[i]%2 == 0:\n",
    "        if li[i] > 7:\n",
    "            result.append(li[i])\n",
    "\n",
    "#print the resultant list\n",
    "print(\"Result :\",result)"
   ]
  }
 ],
 "metadata": {
  "kernelspec": {
   "display_name": "Python 3",
   "language": "python",
   "name": "python3"
  },
  "language_info": {
   "codemirror_mode": {
    "name": "ipython",
    "version": 3
   },
   "file_extension": ".py",
   "mimetype": "text/x-python",
   "name": "python",
   "nbconvert_exporter": "python",
   "pygments_lexer": "ipython3",
   "version": "3.7.6"
  }
 },
 "nbformat": 4,
 "nbformat_minor": 4
}
