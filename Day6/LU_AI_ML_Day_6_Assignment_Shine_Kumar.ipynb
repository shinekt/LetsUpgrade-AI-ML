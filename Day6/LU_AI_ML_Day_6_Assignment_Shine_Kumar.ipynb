{
 "cells": [
  {
   "cell_type": "markdown",
   "metadata": {},
   "source": [
    "# Question 1: Assuming that we have some email addresses in the \"username@companyname.com\" format, please write program to print the company name of a given email address. Both user names and company names are composed of letters only."
   ]
  },
  {
   "cell_type": "code",
   "execution_count": 6,
   "metadata": {},
   "outputs": [
    {
     "name": "stdout",
     "output_type": "stream",
     "text": [
      "Enter an email address :shine.kumar@google.com\n",
      "Company name : google\n"
     ]
    }
   ],
   "source": [
    "#Enter an email address\n",
    "x = input(\"Enter an email address :\")\n",
    "\n",
    "#Extract the company name from the email address\n",
    "for i in range(len(x)):\n",
    "    if x[i] == '@':\n",
    "        temp = x[i+1:len(x)]\n",
    "result = \"\"\n",
    "for i in range(len(temp)):\n",
    "    if temp[i] == '.':\n",
    "        break\n",
    "    else:\n",
    "        result = result + temp[i]\n",
    "        \n",
    "#print the extracted company name\n",
    "print(\"Company name :\",result)"
   ]
  },
  {
   "cell_type": "markdown",
   "metadata": {},
   "source": [
    "# Question 2: Write a program that accepts a comma-separated sequence of words as input and prints the words in a comma separated sequence after sorting them alphabetically."
   ]
  },
  {
   "cell_type": "code",
   "execution_count": 1,
   "metadata": {},
   "outputs": [
    {
     "name": "stdout",
     "output_type": "stream",
     "text": [
      "Enter a comma seperated string : dog,cat,mouse,rat,bat\n",
      "Comma seperated sorted string : bat,cat,dog,mouse,rat\n"
     ]
    }
   ],
   "source": [
    "#Enter a comma seperated sequence of words as input\n",
    "str1 = input(\"Enter a comma seperated string : \")\n",
    "\n",
    "#split the string into list of words with , as a delimiter\n",
    "str2 = str1.split(\",\")\n",
    "\n",
    "#Sort the words in the list\n",
    "str2.sort()\n",
    "\n",
    "#Initialize an empty string to hold the result\n",
    "result = \"\"\n",
    "\n",
    "#Iterate over the list items and create a string\n",
    "for i in range(len(str2)):\n",
    "    if i < len(str2)-1:\n",
    "        result = result + str2[i] + \",\"\n",
    "    else:\n",
    "        result = result + str2[-1]\n",
    "\n",
    "#Print the comma seperated sorted string\n",
    "print(\"Comma seperated sorted string :\",result)"
   ]
  },
  {
   "cell_type": "markdown",
   "metadata": {},
   "source": [
    "# Question 3: Create your own Jupyter Notebook for Sets. Reference link: https://www.w3schools.com/python/python_sets.asp"
   ]
  },
  {
   "cell_type": "markdown",
   "metadata": {},
   "source": [
    "Answered in a seperate notebook : LU_AI_ML_Day_6_Question_3_Set"
   ]
  },
  {
   "cell_type": "markdown",
   "metadata": {},
   "source": [
    "# Question 4 : Given a list of n-1 numbers ranging from 1 to n, your task is to find the missing number. There are no duplicates"
   ]
  },
  {
   "cell_type": "code",
   "execution_count": 34,
   "metadata": {},
   "outputs": [
    {
     "name": "stdout",
     "output_type": "stream",
     "text": [
      "Enter a list of numbers :2 4 1 5 6 7 \n",
      "Missing number(s) :  [3]\n"
     ]
    }
   ],
   "source": [
    "#Enter a list of integers\n",
    "n = input(\"Enter a list of numbers :\")\n",
    "\n",
    "#Split the entered values over \"space\"\n",
    "num = n.split(\" \")\n",
    "\n",
    "#sort the values in a list\n",
    "num.sort()\n",
    "\n",
    "#Initiate an empty list for final result\n",
    "result = []\n",
    "\n",
    "#find the missing number\n",
    "for i in range(1,int(num[-1])+1):\n",
    "    if str(i) in num:\n",
    "        continue\n",
    "    else:\n",
    "        result.append(i)\n",
    "\n",
    "#print the list of missing numbers\n",
    "print(\"Missing number(s) : \",result)\n"
   ]
  },
  {
   "cell_type": "markdown",
   "metadata": {},
   "source": [
    "# Question 5:With a given list L, write a program to print this list L after removing all duplicate values with original order reserved."
   ]
  },
  {
   "cell_type": "code",
   "execution_count": 42,
   "metadata": {},
   "outputs": [
    {
     "name": "stdout",
     "output_type": "stream",
     "text": [
      "Enter a list with duplicates :1 er 23 yu yu 34 23\n",
      "Resultant list after removal of duplicates : ['1', 'er', '23', 'yu', '34']\n"
     ]
    }
   ],
   "source": [
    "#Enter a list with duplicates\n",
    "L = input(\"Enter a list with duplicates :\")\n",
    "li = L.split(\" \")\n",
    "\n",
    "#initialize an empty string for result\n",
    "result = []\n",
    "\n",
    "#Eliminate the duplicates\n",
    "for i in li:\n",
    "    if i not in result:\n",
    "        result.append(i)\n",
    "\n",
    "#print the result\n",
    "print(\"Resultant list after removal of duplicates :\",result)"
   ]
  }
 ],
 "metadata": {
  "kernelspec": {
   "display_name": "Python 3",
   "language": "python",
   "name": "python3"
  },
  "language_info": {
   "codemirror_mode": {
    "name": "ipython",
    "version": 3
   },
   "file_extension": ".py",
   "mimetype": "text/x-python",
   "name": "python",
   "nbconvert_exporter": "python",
   "pygments_lexer": "ipython3",
   "version": "3.7.6"
  }
 },
 "nbformat": 4,
 "nbformat_minor": 4
}
